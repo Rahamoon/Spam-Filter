{
 "cells": [
  {
   "cell_type": "code",
   "execution_count": 2,
   "metadata": {
    "collapsed": true,
    "nbpresent": {
     "id": "6d88289d-9125-4131-ab08-858957db54c5"
    }
   },
   "outputs": [],
   "source": [
    "import pandas as pd\n",
    "import numpy as np\n",
    "import matplotlib.pylab as plt\n",
    "%matplotlib inline\n",
    "from matplotlib.pylab import rcParams\n",
    "rcParams['figure.figsize'] = 15, 6"
   ]
  },
  {
   "cell_type": "code",
   "execution_count": 3,
   "metadata": {
    "collapsed": true,
    "nbpresent": {
     "id": "d6be23ea-8c20-4ea0-bc19-bfaa43e5e777"
    }
   },
   "outputs": [],
   "source": [
    "import os\n",
    "from io import open\n",
    "NEWLINE = '\\n'\n",
    "SKIP_FILES = {'cmds'}\n",
    "\n",
    "\n",
    "def read_files(path):\n",
    "    for root, dir_names, file_names in os.walk(path):\n",
    "        for path in dir_names:\n",
    "            read_files(os.path.join(root, path))\n",
    "        for file_name in file_names:\n",
    "            if file_name not in SKIP_FILES:\n",
    "                file_path = os.path.join(root, file_name)\n",
    "                if os.path.isfile(file_path):\n",
    "                    past_header, lines = False, []\n",
    "                    f = open(file_path, encoding=\"latin-1\")\n",
    "                    for line in f:\n",
    "                        if past_header:\n",
    "                            lines.append(line)\n",
    "                        elif line == NEWLINE:\n",
    "                            past_header = True\n",
    "                    f.close()\n",
    "                    content = NEWLINE.join(lines)\n",
    "                    yield file_name, content"
   ]
  },
  {
   "cell_type": "code",
   "execution_count": 4,
   "metadata": {
    "collapsed": true,
    "nbpresent": {
     "id": "631db0b7-7dfe-4be6-bf7b-b4c034911bf4"
    }
   },
   "outputs": [],
   "source": [
    "def build_data_frame(path, classification):\n",
    "    rows = []\n",
    "    index = []\n",
    "    j = 0\n",
    "    for file_name, text in read_files(path):\n",
    "        rows.append({'text': text, 'class': classification})\n",
    "        index.append(file_name)\n",
    "\n",
    "    data_frame = pd.DataFrame(rows, index=index)\n",
    "    return data_frame"
   ]
  },
  {
   "cell_type": "code",
   "execution_count": 5,
   "metadata": {
    "collapsed": false,
    "nbpresent": {
     "id": "bc19eb3e-902c-43c8-a503-73eeef5fe7f6"
    }
   },
   "outputs": [],
   "source": [
    "HAM = 'ham'\n",
    "SPAM = 'spam'\n",
    "\n",
    "SOURCES = [\n",
    "    ('data/spam',        SPAM),\n",
    "    ('data/easy_ham',    HAM),\n",
    "    ('data/hard_ham',    HAM),\n",
    "    ('data/easy_ham_2',      HAM),\n",
    "    ('data/spam_2',    SPAM)\n",
    "]\n",
    "\n",
    "data = pd.DataFrame({'text': [], 'class': []})\n",
    "for path, classification in SOURCES:\n",
    "    data = data.append(build_data_frame(path, classification))\n",
    "\n",
    "data = data.reindex(np.random.permutation(data.index))"
   ]
  },
  {
   "cell_type": "code",
   "execution_count": 6,
   "metadata": {
    "collapsed": false,
    "nbpresent": {
     "id": "f91c3c7f-c51c-482b-8651-ff62d0a571b4"
    },
    "scrolled": true
   },
   "outputs": [
    {
     "data": {
      "text/html": [
       "<div>\n",
       "<table border=\"1\" class=\"dataframe\">\n",
       "  <thead>\n",
       "    <tr style=\"text-align: right;\">\n",
       "      <th></th>\n",
       "      <th>class</th>\n",
       "      <th>text</th>\n",
       "    </tr>\n",
       "  </thead>\n",
       "  <tbody>\n",
       "    <tr>\n",
       "      <th>01107.5b3ad5e88347b08967ec627b815f2fc3</th>\n",
       "      <td>spam</td>\n",
       "      <td>Dear Sir,  \\n\\n\\n\\n *¡°ÖÐÂ·Í¨Åä¼þ³§¡±×¨ÒµÉú²úVE±ÃÍ·(VE·ÖÅä±Ã±ÃÍ·×Ü³É),Ö÷ÒªÐÍºÅÓÐ\\n\\n    ÎåÊ®Áå4JB1,¿µÃ÷Ë¹6BT,ÒÀÎ¬¿ÂµÍÅÅ·Å,ÎåÊ®ÁäÆ¤¿¨.....\\n\\n\\n\\n\\t\\n\\n\\t\\n\\n * ÖÐÂ·Í¨Åä¼þ³§ÓÐ¶àÄêÉú²úVE±ÃÍ·µÄ¾­Ñé, ×÷Îª½ÏÔç½øÈëÓÍ±ÃÓÍ×ìÐÐ\\n\\n   ÒµµÄ×¨Òµ³§,ÎÒÃÇÊ±¿Ì¸ú×Ù¹ú¼Ê¸÷µØÆäËü²ñÓÍÈ¼ÓÍÅçÉäÏµÍ³µÄÖÆ\\n\\n   ÔìÉÌµÄÉú²ú¹¤ÒÕ,²¢ÇÒ²»¶ÏÎüÊÕ¹ú¼ÊÉÏ×îÏÈ½øµÄ¼Ó¹¤,²âÊÔ¹¤.²úÆ·µÄ\\n\\n   ÖÊÁ¿ºÍÍâ¹ÛÍ¬¹úÍâÍ¬Àà²úÆ·Ïàµ±. \\n\\n\\n\\n * Èç¶ÔÎÒÃÇµÄ²úÆ·¸ÐÐËÈ¤,ÇëÍ¨ÖªÎÒÃÇ.\\n\\n\\n\\n\\n\\n\\n\\n\\n\\n \\n\\n   we have been in the field of diesel fuel injection \\n\\nsystems for quite a few years.(CHINA)\\n\\n\\n\\n   We tell you that we will update our VE h&amp;r\\n\\n(hydraulic heads for the VE distributor pump) list in our \\n\\n\\n\\nhomepages.Thirty more models will be added.And the minimum\\n\\norder will be 6pcs a model.We quote them as follows:\\n\\n3-cyl:USD:50/1pcs\\n\\n4-cyl:USD:50/1pcs\\n\\n5-cyl:USD:55/1pcs\\n\\n6-cyl:USD:55/1pcs\\n\\n\\n\\n   We can ship the following three models to you within 8~10 weeks. after\\n\\nwe receive your payment.\\n\\n  If you feel in...</td>\n",
       "    </tr>\n",
       "    <tr>\n",
       "      <th>01913.2a83ce1d003b4e136cc6a4f35cb09b50</th>\n",
       "      <td>ham</td>\n",
       "      <td>URL: http://scriptingnews.userland.com/backissues/2002/09/25#When:6:31:40PM\\n\\nDate: Thu, 26 Sep 2002 01:31:40 GMT\\n\\n\\n\\nDaypop[1] is back. _Ye-hi._\\n\\n\\n\\n[1] http://www.daypop.com/top/\\n\\n\\n\\n\\n</td>\n",
       "    </tr>\n",
       "    <tr>\n",
       "      <th>00241.490af8faa6e4b94e0affed327e670dae</th>\n",
       "      <td>spam</td>\n",
       "      <td>&lt;html&gt;\\n\\n&lt;body bgColor=\"#CCCCCC\" topmargin=1 onMouseOver=\"window.status=''; return true\" oncontextmenu=\"return false\" ondragstart=\"return false\" onselectstart=\"return false\"&gt;\\n\\n&lt;p&gt;&lt;br&gt;\\n\\n&lt;/p&gt;\\n\\n&lt;table width=\"581\" border=\"0\" cellspacing=\"0\" cellpadding=\"0\" align=\"center\"&gt;\\n\\n&lt;tr align=\"center\" valign=\"top\"&gt;\\n\\n&lt;td&gt;\\n\\n&lt;table width=\"580\" border=\"0\" cellspacing=\"0\" cellpadding=\"0\" bgcolor=\"#cccccc\"&gt;\\n\\n&lt;tr&gt; \\n\\n&lt;td align=\"left\" valign=\"bottom\" width=\"566\"&gt;\\n\\n&lt;table width=\"100%\" border=\"0\" cellspacing=\"10\"\\n\\ncellpadding=\"10\" bgcolor=\"#CCCCCC\"&gt;\\n\\n&lt;tr&gt;\\n\\n&lt;td height=\"44\"&gt; \\n\\n&lt;p align=\"center\"&gt;&lt;font size=\"5\"&gt;Hello, fork@voycomp.com,&lt;br&gt;&lt;br&gt;As se&lt;!--fork--&gt;en on NB&lt;!----&gt;C, CB&lt;!----&gt;S, CN&lt;!----&gt;N, and ev&lt;!----&gt;en Opr&lt;!----&gt;ah! \\n\\nThe hea&lt;!--fork--&gt;lth dis&lt;!----&gt;covery that actual&lt;!----&gt;ly rever&lt;!----&gt;ses agi&lt;!----&gt;ng while bur&lt;!----&gt;ning \\n\\nfat, wit&lt;!--fork--&gt;hout diet&lt;!----&gt;ing or exerci&lt;!----&gt;se! This pr&lt;!----&gt;oven disc&lt;!----&gt;overy has \\n\\neven been repor&lt;!--fork--&gt;ted on by th...</td>\n",
       "    </tr>\n",
       "    <tr>\n",
       "      <th>0409.09cb28cd8753bff06fc8a547c3ed8fe2</th>\n",
       "      <td>spam</td>\n",
       "      <td>&lt;!DOCTYPE HTML PUBLIC \"-//W3C//DTD HTML 4.0 Transitional//EN\"&gt;\\n\\n&lt;HTML&gt;&lt;HEAD&gt;\\n\\n&lt;META http-equiv=Content-Type content=\"text/html; charset=windows-1252\"&gt;\\n\\n&lt;META content=\"MSHTML 6.00.2716.2200\" name=GENERATOR&gt;&lt;/HEAD&gt;\\n\\n&lt;BODY&gt;\\n\\n&lt;CENTER&gt;\\n\\n&lt;TABLE borderColor=black cellSpacing=0 cellPadding=10 border=1&gt;\\n\\n  &lt;TBODY&gt;\\n\\n  &lt;TR&gt;\\n\\n    &lt;TD&gt;&lt;FONT size=2&gt;&lt;A\\n\\n      href=\"http://theadmanager.com/server/c.asp?ad_key=BBBIJJJNSUMV&amp;ext=1\"\\n\\n      target=\"\"&gt;&lt;IMG height=71 alt=\"\"\\n\\n      src=\"http://www.findanopportunity.com/fgoffer/htmlemail2/top_01.gif\"\\n\\n      width=549 border=0&gt;&lt;BR&gt;&lt;IMG height=73 alt=\"\"\\n\\n      src=\"http://www.findanopportunity.com/fgoffer/htmlemail2/top_02.gif\"\\n\\n      width=549 border=0&gt;&lt;BR&gt;&lt;IMG height=115 alt=\"\"\\n\\n      src=\"http://www.findanopportunity.com/fgoffer/htmlemail2/collage_01.jpg\"\\n\\n      width=188 border=0&gt;&lt;IMG height=115 alt=\"\"\\n\\n      src=\"http://www.findanopportunity.com/fgoffer/htmlemail2/collage_02.jpg\"\\n\\n      width=171 border=0&gt;&lt;IMG heigh...</td>\n",
       "    </tr>\n",
       "    <tr>\n",
       "      <th>01366.f862e5456473e82837fc0a89c6abf5c2</th>\n",
       "      <td>ham</td>\n",
       "      <td>Hi, I'm trying to build SA under Digital Unix 4.0f and am receiving a\\n\\ncompile error (and many warnings) for spamc.  The \"perl Makefile.PL\"\\n\\ndoes OK, but when I do the make, I get this:\\n\\n\\n\\ncc -std -fprm d -ieee -D_INTRINSICS -I/usr/local/include -DLANGUAGE_C\\n\\n-O4 spamd\\n\\n/spamc.c  -o spamd/spamc -L/usr/local/lib -lbind -ldbm -ldb -lm -liconv\\n\\n-lutil\\n\\ncc: Error: spamd/spamc.c, line 50: In this declaration, \"in_addr_t\" has\\n\\nno linkage and has a prior declaration in this scope at line number 592 in file\\n\\n/usr/include/sys/types.h. (nolinkage)\\n\\ntypedef unsigned long   in_addr_t;      /* base type for internet\\n\\naddress */\\n\\n------------------------^\\n\\ncc: Warning: spamd/spamc.c, line 169: In this statement, the referenced\\n\\ntype of\\n\\nthe pointer value \"msg_buf\" is \"char\", which is not compatible with\\n\\n\"unsigned char\". (ptrmismatch)\\n\\n  if((bytes = full_read (in, msg_buf, max_size+1024, max_size+1024)) &gt;\\n\\nmax_size)\\n\\n-----------------------------^\\n\\ncc: W...</td>\n",
       "    </tr>\n",
       "  </tbody>\n",
       "</table>\n",
       "</div>"
      ],
      "text/plain": [
       "                                       class  \\\n",
       "01107.5b3ad5e88347b08967ec627b815f2fc3  spam   \n",
       "01913.2a83ce1d003b4e136cc6a4f35cb09b50   ham   \n",
       "00241.490af8faa6e4b94e0affed327e670dae  spam   \n",
       "0409.09cb28cd8753bff06fc8a547c3ed8fe2   spam   \n",
       "01366.f862e5456473e82837fc0a89c6abf5c2   ham   \n",
       "\n",
       "                                                                                                                                                                                                                                                                                                                                                                                                                                                                                                                                                                                                                                                                                                                                                                                                                                                                                                                                                                                                                                                                           text  \n",
       "01107.5b3ad5e88347b08967ec627b815f2fc3  Dear Sir,  \\n\\n\\n\\n *¡°ÖÐÂ·Í¨Åä¼þ³§¡±×¨ÒµÉú²úVE±ÃÍ·(VE·ÖÅä±Ã±ÃÍ·×Ü³É),Ö÷ÒªÐÍºÅÓÐ\\n\\n    ÎåÊ®Áå4JB1,¿µÃ÷Ë¹6BT,ÒÀÎ¬¿ÂµÍÅÅ·Å,ÎåÊ®ÁäÆ¤¿¨.....\\n\\n\\n\\n\\t\\n\\n\\t\\n\\n * ÖÐÂ·Í¨Åä¼þ³§ÓÐ¶àÄêÉú²úVE±ÃÍ·µÄ¾­Ñé, ×÷Îª½ÏÔç½øÈëÓÍ±ÃÓÍ×ìÐÐ\\n\\n   ÒµµÄ×¨Òµ³§,ÎÒÃÇÊ±¿Ì¸ú×Ù¹ú¼Ê¸÷µØÆäËü²ñÓÍÈ¼ÓÍÅçÉäÏµÍ³µÄÖÆ\\n\\n   ÔìÉÌµÄÉú²ú¹¤ÒÕ,²¢ÇÒ²»¶ÏÎüÊÕ¹ú¼ÊÉÏ×îÏÈ½øµÄ¼Ó¹¤,²âÊÔ¹¤.²úÆ·µÄ\\n\\n   ÖÊÁ¿ºÍÍâ¹ÛÍ¬¹úÍâÍ¬Àà²úÆ·Ïàµ±. \\n\\n\\n\\n * Èç¶ÔÎÒÃÇµÄ²úÆ·¸ÐÐËÈ¤,ÇëÍ¨ÖªÎÒÃÇ.\\n\\n\\n\\n\\n\\n\\n\\n\\n\\n \\n\\n   we have been in the field of diesel fuel injection \\n\\nsystems for quite a few years.(CHINA)\\n\\n\\n\\n   We tell you that we will update our VE h&r\\n\\n(hydraulic heads for the VE distributor pump) list in our \\n\\n\\n\\nhomepages.Thirty more models will be added.And the minimum\\n\\norder will be 6pcs a model.We quote them as follows:\\n\\n3-cyl:USD:50/1pcs\\n\\n4-cyl:USD:50/1pcs\\n\\n5-cyl:USD:55/1pcs\\n\\n6-cyl:USD:55/1pcs\\n\\n\\n\\n   We can ship the following three models to you within 8~10 weeks. after\\n\\nwe receive your payment.\\n\\n  If you feel in...  \n",
       "01913.2a83ce1d003b4e136cc6a4f35cb09b50                                                                                                                                                                                                                                                                                                                                                                                                                                                                                                                                                                                                                                                                                                                                                                                                                                    URL: http://scriptingnews.userland.com/backissues/2002/09/25#When:6:31:40PM\\n\\nDate: Thu, 26 Sep 2002 01:31:40 GMT\\n\\n\\n\\nDaypop[1] is back. _Ye-hi._\\n\\n\\n\\n[1] http://www.daypop.com/top/\\n\\n\\n\\n\\n  \n",
       "00241.490af8faa6e4b94e0affed327e670dae  <html>\\n\\n<body bgColor=\"#CCCCCC\" topmargin=1 onMouseOver=\"window.status=''; return true\" oncontextmenu=\"return false\" ondragstart=\"return false\" onselectstart=\"return false\">\\n\\n<p><br>\\n\\n</p>\\n\\n<table width=\"581\" border=\"0\" cellspacing=\"0\" cellpadding=\"0\" align=\"center\">\\n\\n<tr align=\"center\" valign=\"top\">\\n\\n<td>\\n\\n<table width=\"580\" border=\"0\" cellspacing=\"0\" cellpadding=\"0\" bgcolor=\"#cccccc\">\\n\\n<tr> \\n\\n<td align=\"left\" valign=\"bottom\" width=\"566\">\\n\\n<table width=\"100%\" border=\"0\" cellspacing=\"10\"\\n\\ncellpadding=\"10\" bgcolor=\"#CCCCCC\">\\n\\n<tr>\\n\\n<td height=\"44\"> \\n\\n<p align=\"center\"><font size=\"5\">Hello, fork@voycomp.com,<br><br>As se<!--fork-->en on NB<!---->C, CB<!---->S, CN<!---->N, and ev<!---->en Opr<!---->ah! \\n\\nThe hea<!--fork-->lth dis<!---->covery that actual<!---->ly rever<!---->ses agi<!---->ng while bur<!---->ning \\n\\nfat, wit<!--fork-->hout diet<!---->ing or exerci<!---->se! This pr<!---->oven disc<!---->overy has \\n\\neven been repor<!--fork-->ted on by th...  \n",
       "0409.09cb28cd8753bff06fc8a547c3ed8fe2   <!DOCTYPE HTML PUBLIC \"-//W3C//DTD HTML 4.0 Transitional//EN\">\\n\\n<HTML><HEAD>\\n\\n<META http-equiv=Content-Type content=\"text/html; charset=windows-1252\">\\n\\n<META content=\"MSHTML 6.00.2716.2200\" name=GENERATOR></HEAD>\\n\\n<BODY>\\n\\n<CENTER>\\n\\n<TABLE borderColor=black cellSpacing=0 cellPadding=10 border=1>\\n\\n  <TBODY>\\n\\n  <TR>\\n\\n    <TD><FONT size=2><A\\n\\n      href=\"http://theadmanager.com/server/c.asp?ad_key=BBBIJJJNSUMV&ext=1\"\\n\\n      target=\"\"><IMG height=71 alt=\"\"\\n\\n      src=\"http://www.findanopportunity.com/fgoffer/htmlemail2/top_01.gif\"\\n\\n      width=549 border=0><BR><IMG height=73 alt=\"\"\\n\\n      src=\"http://www.findanopportunity.com/fgoffer/htmlemail2/top_02.gif\"\\n\\n      width=549 border=0><BR><IMG height=115 alt=\"\"\\n\\n      src=\"http://www.findanopportunity.com/fgoffer/htmlemail2/collage_01.jpg\"\\n\\n      width=188 border=0><IMG height=115 alt=\"\"\\n\\n      src=\"http://www.findanopportunity.com/fgoffer/htmlemail2/collage_02.jpg\"\\n\\n      width=171 border=0><IMG heigh...  \n",
       "01366.f862e5456473e82837fc0a89c6abf5c2  Hi, I'm trying to build SA under Digital Unix 4.0f and am receiving a\\n\\ncompile error (and many warnings) for spamc.  The \"perl Makefile.PL\"\\n\\ndoes OK, but when I do the make, I get this:\\n\\n\\n\\ncc -std -fprm d -ieee -D_INTRINSICS -I/usr/local/include -DLANGUAGE_C\\n\\n-O4 spamd\\n\\n/spamc.c  -o spamd/spamc -L/usr/local/lib -lbind -ldbm -ldb -lm -liconv\\n\\n-lutil\\n\\ncc: Error: spamd/spamc.c, line 50: In this declaration, \"in_addr_t\" has\\n\\nno linkage and has a prior declaration in this scope at line number 592 in file\\n\\n/usr/include/sys/types.h. (nolinkage)\\n\\ntypedef unsigned long   in_addr_t;      /* base type for internet\\n\\naddress */\\n\\n------------------------^\\n\\ncc: Warning: spamd/spamc.c, line 169: In this statement, the referenced\\n\\ntype of\\n\\nthe pointer value \"msg_buf\" is \"char\", which is not compatible with\\n\\n\"unsigned char\". (ptrmismatch)\\n\\n  if((bytes = full_read (in, msg_buf, max_size+1024, max_size+1024)) >\\n\\nmax_size)\\n\\n-----------------------------^\\n\\ncc: W...  "
      ]
     },
     "execution_count": 6,
     "metadata": {},
     "output_type": "execute_result"
    }
   ],
   "source": [
    "pd.options.display.max_colwidth = 1000\n",
    "data.head()"
   ]
  },
  {
   "cell_type": "code",
   "execution_count": 7,
   "metadata": {
    "collapsed": false,
    "nbpresent": {
     "id": "58deda4c-8f66-4da3-9ceb-7c07ffdf8dce"
    }
   },
   "outputs": [],
   "source": [
    "import re\n",
    "from nltk.stem.porter import PorterStemmer\n",
    "\n",
    "def process_email(email):\n",
    "#   Lower case    \n",
    "    email = email.lower()\n",
    "\n",
    "#   Strip all HTML Looks for any expression that starts with < and ends with > and replace\n",
    "#   and does not have any < or > in the tag it with a space.    \n",
    "    email = re.sub(r'<[^<>]+>', ' ', email)    \n",
    "\n",
    "#   Handle Numbers\n",
    "#   Look for one or more characters between 0-9\n",
    "    email = re.sub(r'[0-9]+', ' number ', email)   \n",
    "\n",
    "\n",
    "#   Handle URLS\n",
    "#   Look for strings starting with http:// or https://\n",
    "    email = re.sub(r'(http|https)://[^\\s]*', ' httpaddr ', email)\n",
    "\n",
    "#   Handle Email Addresses\n",
    "#   Look for strings with @ in the middle\n",
    "    email = re.sub(r'[^\\s]+@[^\\s]+', ' emailaddr ', email)\n",
    "\n",
    "#   Handle $ sign\n",
    "    email = re.sub(r'[$]+', ' dollar ', email)\n",
    "\n",
    "# get rid of any punctuations\n",
    "    email = re.sub(r'[^a-zA-Z0-9]', ' ', email)    \n",
    "    \n",
    "# apply stemming\n",
    "    stemmer = PorterStemmer()\n",
    "    email = ' '.join(map(stemmer.stem, email.split()))\n",
    "    \n",
    "    return email"
   ]
  },
  {
   "cell_type": "code",
   "execution_count": 8,
   "metadata": {
    "collapsed": false,
    "nbpresent": {
     "id": "0a325216-a084-48ce-8f6a-37747524a297"
    },
    "scrolled": true
   },
   "outputs": [],
   "source": [
    "data['text'] = data['text'].map(process_email)\n"
   ]
  },
  {
   "cell_type": "code",
   "execution_count": 9,
   "metadata": {
    "collapsed": false,
    "nbpresent": {
     "id": "8f359f1d-7474-425a-8584-c781a7aad8bc"
    }
   },
   "outputs": [
    {
     "data": {
      "text/html": [
       "<div>\n",
       "<table border=\"1\" class=\"dataframe\">\n",
       "  <thead>\n",
       "    <tr style=\"text-align: right;\">\n",
       "      <th></th>\n",
       "      <th>class</th>\n",
       "      <th>text</th>\n",
       "    </tr>\n",
       "  </thead>\n",
       "  <tbody>\n",
       "    <tr>\n",
       "      <th>01107.5b3ad5e88347b08967ec627b815f2fc3</th>\n",
       "      <td>spam</td>\n",
       "      <td>dear sir ve ve number jb number number bt ve we have been in the field of diesel fuel inject system for quit a few year china we tell you that we will updat our ve h r hydraul head for the ve distributor pump list in our homepag thirti more model will be ad and the minimum order will be number pc a model we quot them as follow number cyl usd number number pc number cyl usd number number pc number cyl usd number number pc number cyl usd number number pc we can ship the follow three model to you within number number week after we receiv your payment if you feel interest in our product pleas advis the detail about what you need such model name part number quantiti and so on we are alway within your touch look forward to our favor cooper hope to hear from you soon nippon denso number number number number number number number number number number number number number number number number number number number number number number number number number number number number zexel number num...</td>\n",
       "    </tr>\n",
       "    <tr>\n",
       "      <th>01913.2a83ce1d003b4e136cc6a4f35cb09b50</th>\n",
       "      <td>ham</td>\n",
       "      <td>url httpaddr number number number when number number number pm date thu number sep number number number number gmt daypop number is back ye hi number httpaddr</td>\n",
       "    </tr>\n",
       "    <tr>\n",
       "      <th>00241.490af8faa6e4b94e0affed327e670dae</th>\n",
       "      <td>spam</td>\n",
       "      <td>hello emailaddr as se en on nb c cb s cn n and ev en opr ah the hea lth di coveri that actual ly rever se agi ng while bur ning fat wit hout diet ing or exerci se thi pr oven disc overi ha even been repor ted on by the new engl and jour nal of med icin forg et agi ng and di ete fore ver and it s guar ante click here woul d you li ke to lo e wei ght whi le you sle ep n o die ting n o hun ger pain n o cra ving no stre nuou exer cise cha nge your li fe for ever number bo dy fat lo s number impro vement number wrin kle redu ction number impr ovement number en ergi le vel number improv ment number mu cle stren gth number improv ement number sexu al pot enci number improv ement number em otion stabi liti number improv ement number memo ry number improv ment number guara nteed nbsp you are rec eiv thi email as a sub criber to the opt in ame rica mail ing list to rem ove you rself from all rela ted mail list just cli ck here httpaddr</td>\n",
       "    </tr>\n",
       "    <tr>\n",
       "      <th>0409.09cb28cd8753bff06fc8a547c3ed8fe2</th>\n",
       "      <td>spam</td>\n",
       "      <td>you ve been hand select to access thi exclus work at home inform for free you are receiv thi mail becaus you are a member of sendgreatoff com and subscrib emailaddr to unsubscrib click here httpaddr or repli to thi email with remov in the subject line you must also includ the bodi of thi messag to be unsubscrib ani correspond about the product servic should be direct to the compani in the ad emailaddr</td>\n",
       "    </tr>\n",
       "    <tr>\n",
       "      <th>01366.f862e5456473e82837fc0a89c6abf5c2</th>\n",
       "      <td>ham</td>\n",
       "      <td>hi i m tri to build sa under digit unix number number f and am receiv a compil error and mani warn for spamc the perl makefil pl doe ok but when i do the make i get thi cc std fprm d ieee d intrins i usr local includ dlanguag c o number spamd spamc c o spamd spamc l usr local lib lbind ldbm ldb lm liconv lutil cc error spamd spamc c line number in thi declar in addr t ha no linkag and ha a prior declar in thi scope at line number number in file usr includ sy type h nolinkag typedef unsign long in addr t base type for internet address cc warn spamd spamc c line number in thi statement the referenc type of the pointer valu msg buf is char which is not compat with unsign char ptrmismatch if byte full read in msg buf max size number max size number max size cc warn spamd spamc c line number in thi statement the referenc type of the pointer valu header buf is char which is not compat with const unsign char ptrmismatch full write out header buf byte number cc warn spamd spamc c line numb...</td>\n",
       "    </tr>\n",
       "  </tbody>\n",
       "</table>\n",
       "</div>"
      ],
      "text/plain": [
       "                                       class  \\\n",
       "01107.5b3ad5e88347b08967ec627b815f2fc3  spam   \n",
       "01913.2a83ce1d003b4e136cc6a4f35cb09b50   ham   \n",
       "00241.490af8faa6e4b94e0affed327e670dae  spam   \n",
       "0409.09cb28cd8753bff06fc8a547c3ed8fe2   spam   \n",
       "01366.f862e5456473e82837fc0a89c6abf5c2   ham   \n",
       "\n",
       "                                                                                                                                                                                                                                                                                                                                                                                                                                                                                                                                                                                                                                                                                                                                                                                                                                                                                                                                                                                                                                                                           text  \n",
       "01107.5b3ad5e88347b08967ec627b815f2fc3  dear sir ve ve number jb number number bt ve we have been in the field of diesel fuel inject system for quit a few year china we tell you that we will updat our ve h r hydraul head for the ve distributor pump list in our homepag thirti more model will be ad and the minimum order will be number pc a model we quot them as follow number cyl usd number number pc number cyl usd number number pc number cyl usd number number pc number cyl usd number number pc we can ship the follow three model to you within number number week after we receiv your payment if you feel interest in our product pleas advis the detail about what you need such model name part number quantiti and so on we are alway within your touch look forward to our favor cooper hope to hear from you soon nippon denso number number number number number number number number number number number number number number number number number number number number number number number number number number number number zexel number num...  \n",
       "01913.2a83ce1d003b4e136cc6a4f35cb09b50                                                                                                                                                                                                                                                                                                                                                                                                                                                                                                                                                                                                                                                                                                                                                                                                                                                                           url httpaddr number number number when number number number pm date thu number sep number number number number gmt daypop number is back ye hi number httpaddr  \n",
       "00241.490af8faa6e4b94e0affed327e670dae                                                              hello emailaddr as se en on nb c cb s cn n and ev en opr ah the hea lth di coveri that actual ly rever se agi ng while bur ning fat wit hout diet ing or exerci se thi pr oven disc overi ha even been repor ted on by the new engl and jour nal of med icin forg et agi ng and di ete fore ver and it s guar ante click here woul d you li ke to lo e wei ght whi le you sle ep n o die ting n o hun ger pain n o cra ving no stre nuou exer cise cha nge your li fe for ever number bo dy fat lo s number impro vement number wrin kle redu ction number impr ovement number en ergi le vel number improv ment number mu cle stren gth number improv ement number sexu al pot enci number improv ement number em otion stabi liti number improv ement number memo ry number improv ment number guara nteed nbsp you are rec eiv thi email as a sub criber to the opt in ame rica mail ing list to rem ove you rself from all rela ted mail list just cli ck here httpaddr  \n",
       "0409.09cb28cd8753bff06fc8a547c3ed8fe2                                                                                                                                                                                                                                                                                                                                                                                                                                                                                                                                                                                                                      you ve been hand select to access thi exclus work at home inform for free you are receiv thi mail becaus you are a member of sendgreatoff com and subscrib emailaddr to unsubscrib click here httpaddr or repli to thi email with remov in the subject line you must also includ the bodi of thi messag to be unsubscrib ani correspond about the product servic should be direct to the compani in the ad emailaddr  \n",
       "01366.f862e5456473e82837fc0a89c6abf5c2  hi i m tri to build sa under digit unix number number f and am receiv a compil error and mani warn for spamc the perl makefil pl doe ok but when i do the make i get thi cc std fprm d ieee d intrins i usr local includ dlanguag c o number spamd spamc c o spamd spamc l usr local lib lbind ldbm ldb lm liconv lutil cc error spamd spamc c line number in thi declar in addr t ha no linkag and ha a prior declar in thi scope at line number number in file usr includ sy type h nolinkag typedef unsign long in addr t base type for internet address cc warn spamd spamc c line number in thi statement the referenc type of the pointer valu msg buf is char which is not compat with unsign char ptrmismatch if byte full read in msg buf max size number max size number max size cc warn spamd spamc c line number in thi statement the referenc type of the pointer valu header buf is char which is not compat with const unsign char ptrmismatch full write out header buf byte number cc warn spamd spamc c line numb...  "
      ]
     },
     "execution_count": 9,
     "metadata": {},
     "output_type": "execute_result"
    }
   ],
   "source": [
    "data.head()"
   ]
  },
  {
   "cell_type": "code",
   "execution_count": 16,
   "metadata": {
    "collapsed": false,
    "nbpresent": {
     "id": "07bd20a8-ce58-4a76-aa06-fe77cb10bf70"
    }
   },
   "outputs": [
    {
     "name": "stdout",
     "output_type": "stream",
     "text": [
      "Best Score found when max_features = 9000 : 0.964349376114 \n"
     ]
    }
   ],
   "source": [
    "from sklearn.cross_validation import train_test_split\n",
    "from sklearn.metrics import accuracy_score, f1_score\n",
    "from sklearn.pipeline import Pipeline\n",
    "from sklearn.feature_extraction.text import TfidfTransformer, CountVectorizer\n",
    "from sklearn import svm\n",
    "from sklearn.naive_bayes import MultinomialNB\n",
    "\n",
    "X, X_test, y, y_test = train_test_split(data['text'].values, data['class'].values, test_size=0.2, random_state=0)\n",
    "X_train, X_cv, y_train, y_cv = train_test_split(X, y, test_size=0.3, random_state=0)\n",
    "\n",
    "# testing Naive Bayes Algorithm\n",
    "n_features = [1000,2000,3000,4000,6000,9000,12000,16000,20000]\n",
    "tests = []\n",
    "for n in n_features:\n",
    "    pipeline = Pipeline([\n",
    "        ('vectorizer',  CountVectorizer(max_features=n)),\n",
    "        ('tfidf', TfidfTransformer()),\n",
    "        ('classifier',  MultinomialNB()) ])\n",
    "\n",
    "    \n",
    "    pipeline.fit(X_train,y_train)\n",
    "    acc = accuracy_score(y_cv,predictions) \n",
    "    predictions = pipeline.predict(X_cv)\n",
    "    tests.append((n,acc))\n",
    "print \"Best Score found when max_features = %s : %s \" % max(tests, key = lambda x : x[1])"
   ]
  },
  {
   "cell_type": "code",
   "execution_count": 17,
   "metadata": {
    "collapsed": false,
    "nbpresent": {
     "id": "66e669c6-451c-4454-b2b6-6fefdfa02e0f"
    }
   },
   "outputs": [
    {
     "name": "stdout",
     "output_type": "stream",
     "text": [
      "Best Score found when max_features = 20000 and C = 0.3 : 0.986185383244\n"
     ]
    }
   ],
   "source": [
    "c_vect = [0.01, 0.03, 0.1, 0.3, 1, 3, 10, 30]\n",
    "n_features = [1000,2000,3000,4000,6000,9000,12000,16000,20000,50000]\n",
    "tests= []\n",
    "for n in n_features:\n",
    "    for c in c_vect:\n",
    "        pipeline = Pipeline([\n",
    "            ('vectorizer',  CountVectorizer(max_features=n)),\n",
    "            ('classifier',  svm.SVC(C=c, kernel='linear')) ])\n",
    "\n",
    "\n",
    "        pipeline.fit(X_train,y_train)\n",
    "\n",
    "        predictions = pipeline.predict(X_cv)\n",
    "        acc = accuracy_score(y_cv,predictions)\n",
    "        tests.append((n,c,acc))\n",
    "print \"Best Score found when max_features = %s and C = %s : %s\" % max(tests, key = lambda x : x[2])"
   ]
  },
  {
   "cell_type": "code",
   "execution_count": 18,
   "metadata": {
    "collapsed": false,
    "nbpresent": {
     "id": "d9845744-cc02-4818-b61d-2753a113d66e"
    }
   },
   "outputs": [
    {
     "name": "stdout",
     "output_type": "stream",
     "text": [
      "('accuracy', 0.9882352941176471)\n"
     ]
    }
   ],
   "source": [
    "pipeline = Pipeline([\n",
    "            ('vectorizer',  CountVectorizer(max_features=20000)),\n",
    "            ('classifier',  svm.SVC(C=0.3, kernel='linear')) ])\n",
    "pipeline.fit(X_train,y_train)\n",
    "predictions = pipeline.predict(X_test)\n",
    "print('accuracy', accuracy_score(y_test,predictions))"
   ]
  },
  {
   "cell_type": "code",
   "execution_count": 20,
   "metadata": {
    "collapsed": false,
    "nbpresent": {
     "id": "a2b53ede-afa0-4f99-80bf-914665c27f5d"
    }
   },
   "outputs": [
    {
     "name": "stdout",
     "output_type": "stream",
     "text": [
      "[u'free viagra call today', u'i m go to attend the linux user group tomorrow', u'pleas accept our appolog for your inconveni if you are not interest in thi e mail offer if you are interest in a new number toyota car truck or van at price as low as number over invoic on select model and or huge save on pre own certifi toyota as well as number s of other pre own vehicl of all make and model below kelli blue book pleas respond with your name phone e mail address and the specif model you are interest in we thank you for your time pleas accept our appolog for the intrus and de select yourself from our mail list if not interest thank you']\n"
     ]
    },
    {
     "data": {
      "text/plain": [
       "array(['spam', 'ham', 'spam'], dtype=object)"
      ]
     },
     "execution_count": 20,
     "metadata": {},
     "output_type": "execute_result"
    }
   ],
   "source": [
    "examples = ['Free Viagra call today!', \n",
    "            \"I'm going to attend the Linux users group tomorrow.\", \n",
    "            \"Please accept our appologies for your inconvenience if you are\\\n",
    "            not interested in this e-mail offer. If you are interested in a new 99'\\\n",
    "            toyota car, truck, or van at prices as low as 2% over invoice\\\n",
    "            on selected models and/or huge savings on pre-owned certified toyotas\\\n",
    "            as well as 100's of other pre-owned vehicles of all makes and models\\\n",
    "            below kelly blue book, please respond with your name, phone #,\\\n",
    "            e-mail address and the specific model you are interested in. We thank you for your\\\n",
    "            time. please accept our appologies for the intrusion and de-select\\\n",
    "            yourself from our mailing list if not interested. Thank you. \" ]\n",
    "examples = map(process_email, examples)\n",
    "print(examples)\n",
    "pipeline.predict(examples)"
   ]
  },
  {
   "cell_type": "markdown",
   "metadata": {
    "collapsed": true
   },
   "source": [
    "###### "
   ]
  }
 ],
 "metadata": {
  "kernelspec": {
   "display_name": "Python [Root]",
   "language": "python",
   "name": "Python [Root]"
  },
  "language_info": {
   "codemirror_mode": {
    "name": "ipython",
    "version": 2
   },
   "file_extension": ".py",
   "mimetype": "text/x-python",
   "name": "python",
   "nbconvert_exporter": "python",
   "pygments_lexer": "ipython2",
   "version": "2.7.12"
  },
  "nbpresent": {
   "slides": {
    "1ce05625-0813-49fe-ab3b-447d2ce487b9": {
     "id": "1ce05625-0813-49fe-ab3b-447d2ce487b9",
     "prev": null,
     "regions": {
      "f3c5e9d7-ce39-4da1-ab85-472241920bd5": {
       "attrs": {
        "height": 0.8,
        "width": 0.45,
        "x": 0.5,
        "y": 0.1
       },
       "id": "f3c5e9d7-ce39-4da1-ab85-472241920bd5"
      }
     }
    }
   },
   "themes": {
    "default": "52f061a7-6616-4ab7-aaec-a87af711050c",
    "theme": {
     "52f061a7-6616-4ab7-aaec-a87af711050c": {
      "backgrounds": {
       "backgroundColor": {
        "background-color": "backgroundColor",
        "id": "backgroundColor"
       }
      },
      "id": "52f061a7-6616-4ab7-aaec-a87af711050c",
      "palette": {
       "backgroundColor": {
        "id": "backgroundColor",
        "rgb": [
         34,
         34,
         34
        ]
       },
       "headingColor": {
        "id": "headingColor",
        "rgb": [
         256,
         256,
         256
        ]
       },
       "linkColor": {
        "id": "linkColor",
        "rgb": [
         66,
         175,
         250
        ]
       },
       "mainColor": {
        "id": "mainColor",
        "rgb": [
         256,
         256,
         256
        ]
       }
      },
      "rules": {
       "a": {
        "color": "linkColor"
       },
       "h1": {
        "color": "headingColor",
        "font-family": "Source Sans Pro",
        "font-size": 5.25
       },
       "h2": {
        "color": "headingColor",
        "font-family": "Source Sans Pro",
        "font-size": 4
       },
       "h3": {
        "color": "headingColor",
        "font-family": "Source Sans Pro",
        "font-size": 3.5
       },
       "h4": {
        "color": "headingColor",
        "font-family": "Source Sans Pro",
        "font-size": 3
       },
       "h5": {
        "color": "headingColor",
        "font-family": "Source Sans Pro"
       },
       "h6": {
        "color": "headingColor",
        "font-family": "Source Sans Pro"
       },
       "h7": {
        "color": "headingColor",
        "font-family": "Source Sans Pro"
       },
       "li": {
        "color": "mainColor",
        "font-family": "Source Sans Pro",
        "font-size": 6
       },
       "p": {
        "color": "mainColor",
        "font-family": "Source Sans Pro",
        "font-size": 6
       }
      },
      "text-base": {
       "color": "mainColor",
       "font-family": "Source Sans Pro",
       "font-size": 6
      }
     },
     "d9d0c681-7e1b-4cc4-98cc-2fb3ab090043": {
      "backgrounds": {
       "backgroundColor": {
        "background-color": "backgroundColor",
        "id": "backgroundColor"
       }
      },
      "id": "d9d0c681-7e1b-4cc4-98cc-2fb3ab090043",
      "palette": {
       "backgroundColor": {
        "id": "backgroundColor",
        "rgb": [
         256,
         256,
         256
        ]
       },
       "headingColor": {
        "id": "headingColor",
        "rgb": [
         0,
         0,
         0
        ]
       },
       "linkColor": {
        "id": "linkColor",
        "rgb": [
         0,
         0,
         139
        ]
       },
       "mainColor": {
        "id": "mainColor",
        "rgb": [
         0,
         0,
         0
        ]
       }
      },
      "rules": {
       "a": {
        "color": "linkColor"
       },
       "h1": {
        "color": "headingColor",
        "font-family": "News Cycle",
        "font-size": 7
       },
       "h2": {
        "color": "headingColor",
        "font-family": "News Cycle",
        "font-size": 5
       },
       "h3": {
        "color": "headingColor",
        "font-family": "News Cycle",
        "font-size": 3.75
       },
       "h4": {
        "color": "headingColor",
        "font-family": "News Cycle",
        "font-size": 3
       },
       "h5": {
        "color": "headingColor",
        "font-family": "News Cycle"
       },
       "h6": {
        "color": "headingColor",
        "font-family": "News Cycle"
       },
       "h7": {
        "color": "headingColor",
        "font-family": "News Cycle"
       },
       "li": {
        "color": "mainColor",
        "font-family": "Lato",
        "font-size": 5
       },
       "p": {
        "color": "mainColor",
        "font-family": "Lato",
        "font-size": 5
       }
      },
      "text-base": {
       "color": "mainColor",
       "font-family": "Lato",
       "font-size": 5
      }
     }
    }
   }
  }
 },
 "nbformat": 4,
 "nbformat_minor": 0
}
